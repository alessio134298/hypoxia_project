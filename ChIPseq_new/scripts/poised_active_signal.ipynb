{
 "cells": [
  {
   "cell_type": "code",
   "execution_count": 74,
   "metadata": {},
   "outputs": [],
   "source": [
    "import pyBigWig\n",
    "import pandas as pd\n",
    "import matplotlib.pyplot as plt\n",
    "import os\n",
    "import numpy as np\n",
    "\n",
    "norm = 'RPGC'\n",
    "\n",
    "pathbed = '/media/alessio/Data/hypoxia/ChIPseq_new/poised_active_class'\n",
    "path_bw = '/media/alessio/Data/hypoxia/ChIPseq_new/samples'\n",
    "\n",
    "Cas9_norm_bw = [path_bw + '/' + f + '/' + f + '.bcov.RPGC.bw' for f in ['C1A', 'C2A', 'C1B', 'C2B', 'C1C', 'C2C']]\n",
    "H4KO_norm_bw = [path_bw + '/' + f + '/' + f + '.bcov.RPGC.bw' for f in ['K125A1', 'K26A1', 'K125B1', 'K26B1', 'K125C1', 'K26C1']]"
   ]
  },
  {
   "cell_type": "code",
   "execution_count": 75,
   "metadata": {},
   "outputs": [
    {
     "name": "stdout",
     "output_type": "stream",
     "text": [
      "dict_keys(['H4KO_H3K27ac_only_norm', 'H4KO_active_enh_norm', 'Cas9_H3K27ac_only_norm', 'Cas9_active_enh_norm', 'Cas9_poised_enh_norm', 'H4KO_poised_enh_norm'])\n"
     ]
    }
   ],
   "source": [
    "files = [pathbed +  '/' + f for f in os.listdir(pathbed) if f.endswith('.bed')]\n",
    "\n",
    "enhancers_classification_normoxia = {\n",
    "    os.path.splitext(os.path.basename(f))[0]: pd.read_csv(f, sep = '\\t', names = ['chrom', 'start', 'end']) for f in files\n",
    "}\n",
    "\n",
    "print(enhancers_classification_normoxia.keys())"
   ]
  },
  {
   "cell_type": "code",
   "execution_count": 76,
   "metadata": {},
   "outputs": [
    {
     "name": "stdout",
     "output_type": "stream",
     "text": [
      "H4KO_H3K27ac_only_norm\n"
     ]
    },
    {
     "name": "stderr",
     "output_type": "stream",
     "text": [
      "/tmp/ipykernel_1681198/2288266891.py:49: FutureWarning: Series.__getitem__ treating keys as positions is deprecated. In a future version, integer keys will always be treated as labels (consistent with DataFrame behavior). To access a value by position, use `ser.iloc[pos]`\n",
      "  chrom, start, end = row[0], row[1], row[2]\n",
      "/tmp/ipykernel_1681198/2288266891.py:49: FutureWarning: Series.__getitem__ treating keys as positions is deprecated. In a future version, integer keys will always be treated as labels (consistent with DataFrame behavior). To access a value by position, use `ser.iloc[pos]`\n",
      "  chrom, start, end = row[0], row[1], row[2]\n",
      "/tmp/ipykernel_1681198/2288266891.py:49: FutureWarning: Series.__getitem__ treating keys as positions is deprecated. In a future version, integer keys will always be treated as labels (consistent with DataFrame behavior). To access a value by position, use `ser.iloc[pos]`\n",
      "  chrom, start, end = row[0], row[1], row[2]\n",
      "/tmp/ipykernel_1681198/2288266891.py:49: FutureWarning: Series.__getitem__ treating keys as positions is deprecated. In a future version, integer keys will always be treated as labels (consistent with DataFrame behavior). To access a value by position, use `ser.iloc[pos]`\n",
      "  chrom, start, end = row[0], row[1], row[2]\n",
      "/tmp/ipykernel_1681198/2288266891.py:49: FutureWarning: Series.__getitem__ treating keys as positions is deprecated. In a future version, integer keys will always be treated as labels (consistent with DataFrame behavior). To access a value by position, use `ser.iloc[pos]`\n",
      "  chrom, start, end = row[0], row[1], row[2]\n",
      "/tmp/ipykernel_1681198/2288266891.py:49: FutureWarning: Series.__getitem__ treating keys as positions is deprecated. In a future version, integer keys will always be treated as labels (consistent with DataFrame behavior). To access a value by position, use `ser.iloc[pos]`\n",
      "  chrom, start, end = row[0], row[1], row[2]\n"
     ]
    },
    {
     "name": "stdout",
     "output_type": "stream",
     "text": [
      "H4KO_active_enh_norm\n"
     ]
    },
    {
     "name": "stderr",
     "output_type": "stream",
     "text": [
      "/tmp/ipykernel_1681198/2288266891.py:49: FutureWarning: Series.__getitem__ treating keys as positions is deprecated. In a future version, integer keys will always be treated as labels (consistent with DataFrame behavior). To access a value by position, use `ser.iloc[pos]`\n",
      "  chrom, start, end = row[0], row[1], row[2]\n",
      "/tmp/ipykernel_1681198/2288266891.py:49: FutureWarning: Series.__getitem__ treating keys as positions is deprecated. In a future version, integer keys will always be treated as labels (consistent with DataFrame behavior). To access a value by position, use `ser.iloc[pos]`\n",
      "  chrom, start, end = row[0], row[1], row[2]\n",
      "/tmp/ipykernel_1681198/2288266891.py:49: FutureWarning: Series.__getitem__ treating keys as positions is deprecated. In a future version, integer keys will always be treated as labels (consistent with DataFrame behavior). To access a value by position, use `ser.iloc[pos]`\n",
      "  chrom, start, end = row[0], row[1], row[2]\n",
      "/tmp/ipykernel_1681198/2288266891.py:49: FutureWarning: Series.__getitem__ treating keys as positions is deprecated. In a future version, integer keys will always be treated as labels (consistent with DataFrame behavior). To access a value by position, use `ser.iloc[pos]`\n",
      "  chrom, start, end = row[0], row[1], row[2]\n",
      "/tmp/ipykernel_1681198/2288266891.py:49: FutureWarning: Series.__getitem__ treating keys as positions is deprecated. In a future version, integer keys will always be treated as labels (consistent with DataFrame behavior). To access a value by position, use `ser.iloc[pos]`\n",
      "  chrom, start, end = row[0], row[1], row[2]\n",
      "/tmp/ipykernel_1681198/2288266891.py:49: FutureWarning: Series.__getitem__ treating keys as positions is deprecated. In a future version, integer keys will always be treated as labels (consistent with DataFrame behavior). To access a value by position, use `ser.iloc[pos]`\n",
      "  chrom, start, end = row[0], row[1], row[2]\n"
     ]
    },
    {
     "name": "stdout",
     "output_type": "stream",
     "text": [
      "Cas9_H3K27ac_only_norm\n"
     ]
    },
    {
     "name": "stderr",
     "output_type": "stream",
     "text": [
      "/tmp/ipykernel_1681198/2288266891.py:19: FutureWarning: Series.__getitem__ treating keys as positions is deprecated. In a future version, integer keys will always be treated as labels (consistent with DataFrame behavior). To access a value by position, use `ser.iloc[pos]`\n",
      "  chrom, start, end = row[0], row[1], row[2]\n",
      "/tmp/ipykernel_1681198/2288266891.py:19: FutureWarning: Series.__getitem__ treating keys as positions is deprecated. In a future version, integer keys will always be treated as labels (consistent with DataFrame behavior). To access a value by position, use `ser.iloc[pos]`\n",
      "  chrom, start, end = row[0], row[1], row[2]\n",
      "/tmp/ipykernel_1681198/2288266891.py:19: FutureWarning: Series.__getitem__ treating keys as positions is deprecated. In a future version, integer keys will always be treated as labels (consistent with DataFrame behavior). To access a value by position, use `ser.iloc[pos]`\n",
      "  chrom, start, end = row[0], row[1], row[2]\n",
      "/tmp/ipykernel_1681198/2288266891.py:19: FutureWarning: Series.__getitem__ treating keys as positions is deprecated. In a future version, integer keys will always be treated as labels (consistent with DataFrame behavior). To access a value by position, use `ser.iloc[pos]`\n",
      "  chrom, start, end = row[0], row[1], row[2]\n",
      "/tmp/ipykernel_1681198/2288266891.py:19: FutureWarning: Series.__getitem__ treating keys as positions is deprecated. In a future version, integer keys will always be treated as labels (consistent with DataFrame behavior). To access a value by position, use `ser.iloc[pos]`\n",
      "  chrom, start, end = row[0], row[1], row[2]\n",
      "/tmp/ipykernel_1681198/2288266891.py:19: FutureWarning: Series.__getitem__ treating keys as positions is deprecated. In a future version, integer keys will always be treated as labels (consistent with DataFrame behavior). To access a value by position, use `ser.iloc[pos]`\n",
      "  chrom, start, end = row[0], row[1], row[2]\n"
     ]
    },
    {
     "name": "stdout",
     "output_type": "stream",
     "text": [
      "Cas9_active_enh_norm\n"
     ]
    },
    {
     "name": "stderr",
     "output_type": "stream",
     "text": [
      "/tmp/ipykernel_1681198/2288266891.py:19: FutureWarning: Series.__getitem__ treating keys as positions is deprecated. In a future version, integer keys will always be treated as labels (consistent with DataFrame behavior). To access a value by position, use `ser.iloc[pos]`\n",
      "  chrom, start, end = row[0], row[1], row[2]\n",
      "/tmp/ipykernel_1681198/2288266891.py:19: FutureWarning: Series.__getitem__ treating keys as positions is deprecated. In a future version, integer keys will always be treated as labels (consistent with DataFrame behavior). To access a value by position, use `ser.iloc[pos]`\n",
      "  chrom, start, end = row[0], row[1], row[2]\n",
      "/tmp/ipykernel_1681198/2288266891.py:19: FutureWarning: Series.__getitem__ treating keys as positions is deprecated. In a future version, integer keys will always be treated as labels (consistent with DataFrame behavior). To access a value by position, use `ser.iloc[pos]`\n",
      "  chrom, start, end = row[0], row[1], row[2]\n",
      "/tmp/ipykernel_1681198/2288266891.py:19: FutureWarning: Series.__getitem__ treating keys as positions is deprecated. In a future version, integer keys will always be treated as labels (consistent with DataFrame behavior). To access a value by position, use `ser.iloc[pos]`\n",
      "  chrom, start, end = row[0], row[1], row[2]\n",
      "/tmp/ipykernel_1681198/2288266891.py:19: FutureWarning: Series.__getitem__ treating keys as positions is deprecated. In a future version, integer keys will always be treated as labels (consistent with DataFrame behavior). To access a value by position, use `ser.iloc[pos]`\n",
      "  chrom, start, end = row[0], row[1], row[2]\n",
      "/tmp/ipykernel_1681198/2288266891.py:19: FutureWarning: Series.__getitem__ treating keys as positions is deprecated. In a future version, integer keys will always be treated as labels (consistent with DataFrame behavior). To access a value by position, use `ser.iloc[pos]`\n",
      "  chrom, start, end = row[0], row[1], row[2]\n"
     ]
    },
    {
     "name": "stdout",
     "output_type": "stream",
     "text": [
      "Cas9_poised_enh_norm\n"
     ]
    },
    {
     "name": "stderr",
     "output_type": "stream",
     "text": [
      "/tmp/ipykernel_1681198/2288266891.py:19: FutureWarning: Series.__getitem__ treating keys as positions is deprecated. In a future version, integer keys will always be treated as labels (consistent with DataFrame behavior). To access a value by position, use `ser.iloc[pos]`\n",
      "  chrom, start, end = row[0], row[1], row[2]\n",
      "/tmp/ipykernel_1681198/2288266891.py:19: FutureWarning: Series.__getitem__ treating keys as positions is deprecated. In a future version, integer keys will always be treated as labels (consistent with DataFrame behavior). To access a value by position, use `ser.iloc[pos]`\n",
      "  chrom, start, end = row[0], row[1], row[2]\n",
      "/tmp/ipykernel_1681198/2288266891.py:19: FutureWarning: Series.__getitem__ treating keys as positions is deprecated. In a future version, integer keys will always be treated as labels (consistent with DataFrame behavior). To access a value by position, use `ser.iloc[pos]`\n",
      "  chrom, start, end = row[0], row[1], row[2]\n",
      "/tmp/ipykernel_1681198/2288266891.py:19: FutureWarning: Series.__getitem__ treating keys as positions is deprecated. In a future version, integer keys will always be treated as labels (consistent with DataFrame behavior). To access a value by position, use `ser.iloc[pos]`\n",
      "  chrom, start, end = row[0], row[1], row[2]\n",
      "/tmp/ipykernel_1681198/2288266891.py:19: FutureWarning: Series.__getitem__ treating keys as positions is deprecated. In a future version, integer keys will always be treated as labels (consistent with DataFrame behavior). To access a value by position, use `ser.iloc[pos]`\n",
      "  chrom, start, end = row[0], row[1], row[2]\n",
      "/tmp/ipykernel_1681198/2288266891.py:19: FutureWarning: Series.__getitem__ treating keys as positions is deprecated. In a future version, integer keys will always be treated as labels (consistent with DataFrame behavior). To access a value by position, use `ser.iloc[pos]`\n",
      "  chrom, start, end = row[0], row[1], row[2]\n"
     ]
    },
    {
     "name": "stdout",
     "output_type": "stream",
     "text": [
      "H4KO_poised_enh_norm\n"
     ]
    },
    {
     "name": "stderr",
     "output_type": "stream",
     "text": [
      "/tmp/ipykernel_1681198/2288266891.py:49: FutureWarning: Series.__getitem__ treating keys as positions is deprecated. In a future version, integer keys will always be treated as labels (consistent with DataFrame behavior). To access a value by position, use `ser.iloc[pos]`\n",
      "  chrom, start, end = row[0], row[1], row[2]\n",
      "/tmp/ipykernel_1681198/2288266891.py:49: FutureWarning: Series.__getitem__ treating keys as positions is deprecated. In a future version, integer keys will always be treated as labels (consistent with DataFrame behavior). To access a value by position, use `ser.iloc[pos]`\n",
      "  chrom, start, end = row[0], row[1], row[2]\n",
      "/tmp/ipykernel_1681198/2288266891.py:49: FutureWarning: Series.__getitem__ treating keys as positions is deprecated. In a future version, integer keys will always be treated as labels (consistent with DataFrame behavior). To access a value by position, use `ser.iloc[pos]`\n",
      "  chrom, start, end = row[0], row[1], row[2]\n",
      "/tmp/ipykernel_1681198/2288266891.py:49: FutureWarning: Series.__getitem__ treating keys as positions is deprecated. In a future version, integer keys will always be treated as labels (consistent with DataFrame behavior). To access a value by position, use `ser.iloc[pos]`\n",
      "  chrom, start, end = row[0], row[1], row[2]\n",
      "/tmp/ipykernel_1681198/2288266891.py:49: FutureWarning: Series.__getitem__ treating keys as positions is deprecated. In a future version, integer keys will always be treated as labels (consistent with DataFrame behavior). To access a value by position, use `ser.iloc[pos]`\n",
      "  chrom, start, end = row[0], row[1], row[2]\n",
      "/tmp/ipykernel_1681198/2288266891.py:49: FutureWarning: Series.__getitem__ treating keys as positions is deprecated. In a future version, integer keys will always be treated as labels (consistent with DataFrame behavior). To access a value by position, use `ser.iloc[pos]`\n",
      "  chrom, start, end = row[0], row[1], row[2]\n"
     ]
    }
   ],
   "source": [
    "enhancers_classification_normoxia_with_signal = {}\n",
    "\n",
    "for name, bed in enhancers_classification_normoxia.items():\n",
    "\n",
    "    if 'Cas9' in name:\n",
    "        samples = Cas9_norm_bw\n",
    "        print(name)\n",
    "        \n",
    "        final_df = bed.copy()\n",
    "\n",
    "        for sample in samples:\n",
    "            \n",
    "            data_sample = []\n",
    "            bw = pyBigWig.open(sample)\n",
    "\n",
    "            for i, row in bed.iterrows():\n",
    "                signal_sum = []\n",
    "\n",
    "                chrom, start, end = row[0], row[1], row[2]\n",
    "\n",
    "                signal = bw.values(chrom, start, end, numpy = True)\n",
    "\n",
    "                if len(signal) == 0 or all(value is None or value == 'nan' for value in signal):\n",
    "                    signal_sum = 0\n",
    "                else:\n",
    "                    signal_sum = sum(signal[~np.isnan(signal)])\n",
    "                \n",
    "                data_sample.append(signal_sum)\n",
    "\n",
    "\n",
    "            final_df[sample] = data_sample\n",
    "    \n",
    "        enhancers_classification_normoxia_with_signal[name] = final_df\n",
    "\n",
    "    elif 'H4KO' in name:\n",
    "        samples = H4KO_norm_bw\n",
    "        print(name)\n",
    "        \n",
    "        final_df = bed.copy()\n",
    "\n",
    "        for sample in samples:\n",
    "            \n",
    "            data_sample = []\n",
    "            bw = pyBigWig.open(sample)\n",
    "\n",
    "            for i, row in bed.iterrows():\n",
    "                signal_sum = []\n",
    "\n",
    "                chrom, start, end = row[0], row[1], row[2]\n",
    "            \n",
    "                signal = bw.values(chrom, start, end, numpy = True)\n",
    "\n",
    "                if len(signal) == 0 or all(value is None or value == 'nan' for value in signal):\n",
    "                    signal_sum = 0\n",
    "                else:\n",
    "                    signal_sum = sum(signal[~np.isnan(signal)])\n",
    "                \n",
    "                data_sample.append(signal_sum)\n",
    "\n",
    "            final_df[sample] = data_sample\n",
    "    \n",
    "        enhancers_classification_normoxia_with_signal[name] = final_df\n",
    "    \n"
   ]
  },
  {
   "cell_type": "code",
   "execution_count": 80,
   "metadata": {},
   "outputs": [],
   "source": [
    "for name, data in enhancers_classification_normoxia_with_signal.items():\n",
    "    data.to_csv(f'../tables/{name}_with_RPGC_signal.csv', sep = '\\t', header = True, index = None)"
   ]
  }
 ],
 "metadata": {
  "kernelspec": {
   "display_name": "chip_atac",
   "language": "python",
   "name": "python3"
  },
  "language_info": {
   "codemirror_mode": {
    "name": "ipython",
    "version": 3
   },
   "file_extension": ".py",
   "mimetype": "text/x-python",
   "name": "python",
   "nbconvert_exporter": "python",
   "pygments_lexer": "ipython3",
   "version": "3.13.3"
  }
 },
 "nbformat": 4,
 "nbformat_minor": 2
}
